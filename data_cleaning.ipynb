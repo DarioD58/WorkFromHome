{
  "nbformat": 4,
  "nbformat_minor": 0,
  "metadata": {
    "colab": {
      "name": "WorkFromHome.ipynb",
      "provenance": []
    },
    "kernelspec": {
      "name": "python381jvsc74a57bd06cad293bc0b49d4846ee75abe02cc89bf6cece8daa433964cb89a78eee53f72e",
      "display_name": "Python 3.8.1 64-bit"
    }
  },
  "cells": [
    {
      "cell_type": "code",
      "metadata": {
        "id": "C22OJBn1MO7p"
      },
      "source": [
        "import pandas as pd\n",
        "import pprint\n",
        "import pickle"
      ],
      "execution_count": 2,
      "outputs": []
    },
    {
      "cell_type": "code",
      "metadata": {
        "id": "AyjFVSemNfmL"
      },
      "source": [
        "data = pd.read_csv(\"data/analiza.csv\")"
      ],
      "execution_count": 3,
      "outputs": []
    },
    {
      "cell_type": "code",
      "execution_count": 4,
      "metadata": {},
      "outputs": [
        {
          "output_type": "stream",
          "name": "stdout",
          "text": [
            "[(0, 'Vremenska oznaka'),\n (1, 'produktivnost'),\n (2, 'kolicina_rada'),\n (3, 'motivacija'),\n (4, 'jutarnja_rutina'),\n (5, 'pocetak_rada'),\n (6, 'pauza'),\n (7, 'mjesto_rada'),\n (8, 'kraj_rada'),\n (9, 'kucanske_obaveze'),\n (10, 'djeca_u_kuci'),\n (11, 'drugi_ukucani'),\n (12, 'sredstva_za_rad'),\n (13, 'rezije'),\n (14, 'radno_mjesto'),\n (15, 'uloga_unutar_poduzeca'),\n (16, 'interakcija_s_kolegama'),\n (17, 'promjena_interakcije'),\n (18, 'upravljanje_ljudima'),\n (19, 'atmosfera'),\n (20, 'zadovoljni'),\n (21, 'sektor_rada')]\n"
          ]
        }
      ],
      "source": [
        "#Since column names are long and tedious we will simply rename them and\n",
        "#print a dictionary of coresponding name values here.\n",
        "\n",
        "names = {}\n",
        "\n",
        "for i, column in enumerate(data):\n",
        "    names[i] = column\n",
        "pprint.pprint(sorted(names.items()))"
      ]
    },
    {
      "cell_type": "code",
      "metadata": {
        "colab": {
          "base_uri": "https://localhost:8080/",
          "height": 283
        },
        "id": "sNmDG7cPPChq",
        "outputId": "e684d486-a61b-49f2-d053-1ee1ebcfc24f"
      },
      "source": [
        "#Separating the data we won't be using for now\n",
        "biased_data = data[[names[3], names[14], names[21], names[18]]]\n",
        "data.drop([names[0], names[3], names[14], names[21], names[18]], 1, inplace=True)\n"
      ],
      "execution_count": 5,
      "outputs": []
    },
    {
      "cell_type": "code",
      "execution_count": 6,
      "metadata": {},
      "outputs": [
        {
          "output_type": "stream",
          "name": "stdout",
          "text": [
            "array(['Jednaka', 'Bolja', 'Lošija', 'Puno bolja', 'Puno lošija'],\n      dtype=object)\narray(['Više', 'Manje', 'Podjednako', 'Značajno više', 'Značajno manje'],\n      dtype=object)\narray(['Imam', 'Nemam'], dtype=object)\narray(['Uvijek', 'Često', 'Rijetko', 'Ponekad', 'Nikad'], dtype=object)\narray(['Uvijek', 'Ponekad', 'Rijetko', 'Nikad', 'Često'], dtype=object)\narray(['Uvijek', 'Često', 'Rijetko', 'Ponekad'], dtype=object)\narray(['Ponekad', 'Rijetko', 'Uvijek', 'Često', 'Nikad'], dtype=object)\narray(['Rijetko', 'Ponekad', 'Nikad', 'Često', 'Uvijek'], dtype=object)\narray(['Nikad', 'Rijetko', 'Uvijek', 'Često', 'Ponekad'], dtype=object)\narray(['Rijetko', 'Nikad', 'Ponekad', 'Često', 'Uvijek'], dtype=object)\narray(['Da', 'Ne u potpunosti', 'Ne'], dtype=object)\narray(['Ne', 'Da'], dtype=object)\narray(['Da', 'Ne u potpunosti'], dtype=object)\narray(['Uvijek', 'Često', 'Ponekad', 'Rijetko'], dtype=object)\narray(['Smanjila', 'Povećala', 'Jako povećala', 'Ostala ista',\n       'Jako smanjila'], dtype=object)\narray(['Dobra', 'Ni loša ni dobra', 'Loša'], dtype=object)\narray(['Uvijek', 'Često', 'Ponekad', 'Rijetko', 'Nikad'], dtype=object)\n"
          ]
        }
      ],
      "source": [
        "for col in data:\n",
        "    pprint.pprint(data[col].unique())"
      ]
    },
    {
      "cell_type": "code",
      "execution_count": 12,
      "metadata": {},
      "outputs": [],
      "source": [
        "data.to_csv('data/analiza_cleaned.csv', index=False)\n",
        "biased_data.to_csv('data/analiza_extra_data.csv', index=False)\n",
        "with open(\"data/names.txt\", \"wb\") as f:\n",
        "    pickle.dump(names, f)"
      ]
    },
    {
      "cell_type": "code",
      "execution_count": null,
      "metadata": {},
      "outputs": [],
      "source": []
    }
  ]
}